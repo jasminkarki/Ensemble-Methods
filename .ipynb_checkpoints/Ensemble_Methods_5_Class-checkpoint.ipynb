{
 "cells": [
  {
   "cell_type": "markdown",
   "metadata": {},
   "source": [
    "# Heart Disease Classification with DecisionTree"
   ]
  },
  {
   "cell_type": "code",
   "execution_count": 28,
   "metadata": {},
   "outputs": [],
   "source": [
    "import numpy as np\n",
    "import pandas as pd\n",
    "import matplotlib.pyplot as plt\n",
    "import seaborn as sns\n",
    "%matplotlib inline\n",
    "\n",
    "import warnings\n",
    "warnings.filterwarnings('ignore')\n"
   ]
  },
  {
   "cell_type": "markdown",
   "metadata": {},
   "source": [
    "## Loading the Data\n",
    "\n",
    "[UCI Heart-Disease Data](https://archive.ics.uci.edu/ml/datasets/Heart+Disease)\n",
    "\n",
    "- age\n",
    "- sex\n",
    "- chest pain type (4 values)\n",
    "- resting blood pressure\n",
    "- serum cholestoral in mg/dl\n",
    "- fasting blood sugar > 120 mg/dl\n",
    "- resting electrocardiographic results (values 0,1,2)\n",
    "- maximum heart rate achieved\n",
    "- exercise induced angina\n",
    "- oldpeak = ST depression induced by exercise relative to rest\n",
    "- the slope of the peak exercise ST segment\n",
    "- number of major vessels (0-3) colored by flourosopy\n",
    "- thal: 3 = normal; 6 = fixed defect; 7 = reversable defect\n",
    "\n",
    "Targets:\n",
    "- 0: Has Disease\n",
    "- 1: No Disease"
   ]
  },
  {
   "cell_type": "code",
   "execution_count": 29,
   "metadata": {},
   "outputs": [],
   "source": [
    "import warnings\n",
    "warnings.filterwarnings('ignore')"
   ]
  },
  {
   "cell_type": "code",
   "execution_count": 31,
   "metadata": {},
   "outputs": [
    {
     "data": {
      "text/html": [
       "<div>\n",
       "<style scoped>\n",
       "    .dataframe tbody tr th:only-of-type {\n",
       "        vertical-align: middle;\n",
       "    }\n",
       "\n",
       "    .dataframe tbody tr th {\n",
       "        vertical-align: top;\n",
       "    }\n",
       "\n",
       "    .dataframe thead th {\n",
       "        text-align: right;\n",
       "    }\n",
       "</style>\n",
       "<table border=\"1\" class=\"dataframe\">\n",
       "  <thead>\n",
       "    <tr style=\"text-align: right;\">\n",
       "      <th></th>\n",
       "      <th>Phrase</th>\n",
       "      <th>Sentiment</th>\n",
       "    </tr>\n",
       "  </thead>\n",
       "  <tbody>\n",
       "    <tr>\n",
       "      <th>0</th>\n",
       "      <td>the prisoner</td>\n",
       "      <td>2</td>\n",
       "    </tr>\n",
       "    <tr>\n",
       "      <th>1</th>\n",
       "      <td>The sheer joy and pride they took in their wor...</td>\n",
       "      <td>3</td>\n",
       "    </tr>\n",
       "    <tr>\n",
       "      <th>2</th>\n",
       "      <td>has never made a more sheerly beautiful film t...</td>\n",
       "      <td>3</td>\n",
       "    </tr>\n",
       "    <tr>\n",
       "      <th>3</th>\n",
       "      <td>the story has the sizzle of old news that has ...</td>\n",
       "      <td>3</td>\n",
       "    </tr>\n",
       "    <tr>\n",
       "      <th>4</th>\n",
       "      <td>far superior</td>\n",
       "      <td>4</td>\n",
       "    </tr>\n",
       "  </tbody>\n",
       "</table>\n",
       "</div>"
      ],
      "text/plain": [
       "                                              Phrase  Sentiment\n",
       "0                                       the prisoner          2\n",
       "1  The sheer joy and pride they took in their wor...          3\n",
       "2  has never made a more sheerly beautiful film t...          3\n",
       "3  the story has the sizzle of old news that has ...          3\n",
       "4                                       far superior          4"
      ]
     },
     "execution_count": 31,
     "metadata": {},
     "output_type": "execute_result"
    }
   ],
   "source": [
    "df=pd.read_csv('sentiment_5_class.csv')\n",
    "train_df = pd.read_csv('sentiment_5_class_train.csv')\n",
    "test_df = pd.read_csv('sentiment_5_class_test.csv')\n",
    "\n",
    "train_df.head()"
   ]
  },
  {
   "cell_type": "markdown",
   "metadata": {},
   "source": [
    "## Train-test Split\n",
    "\n",
    "Before we proceed further, we split the data.\n",
    "\n",
    "Split into `X_train`, `X_test`, `y_train`, `y_test`.\n",
    "\n",
    "Use: `test_size=0.2`, `random_state=1`"
   ]
  },
  {
   "cell_type": "code",
   "execution_count": 32,
   "metadata": {},
   "outputs": [
    {
     "name": "stdout",
     "output_type": "stream",
     "text": [
      "No of instances 14711 3678\n",
      "[0 1 2 3 4] [0 1 2 3 4]\n",
      "[ 988 1165 1876 7033 3649] [ 247  291  469 1759  912]\n"
     ]
    }
   ],
   "source": [
    "X_train=train_df.Phrase.tolist()\n",
    "X_test=test_df.Phrase.tolist()\n",
    "\n",
    "print('No of instances',len(X_train), len(X_test))\n",
    "y_train=train_df.Sentiment.tolist()\n",
    "y_test =test_df.Sentiment.tolist()\n",
    "values_train, counts_train = np.unique(y_train, return_counts=True)\n",
    "values_test, counts_test = np.unique(y_test, return_counts=True)\n",
    "\n",
    "print(values_train, values_test)\n",
    "print(counts_train, counts_test)"
   ]
  },
  {
   "cell_type": "code",
   "execution_count": 33,
   "metadata": {},
   "outputs": [],
   "source": [
    "# from sklearn.model_selection import train_test_split\n",
    "\n",
    "# X_train,X_test,y_train,y_test=train_test_split(X,y,test_size=0.2,random_state=1)"
   ]
  },
  {
   "cell_type": "code",
   "execution_count": 34,
   "metadata": {},
   "outputs": [],
   "source": [
    "# xdf =pd.DataFrame({'Country':['Nepal','India','China']})\n",
    "# pd.get_dummies(xdf)"
   ]
  },
  {
   "cell_type": "code",
   "execution_count": null,
   "metadata": {},
   "outputs": [],
   "source": []
  },
  {
   "cell_type": "code",
   "execution_count": 35,
   "metadata": {
    "scrolled": false
   },
   "outputs": [
    {
     "data": {
      "application/vnd.jupyter.widget-view+json": {
       "model_id": "73a718af11e84731a1561649bae285c7",
       "version_major": 2,
       "version_minor": 0
      },
      "text/plain": [
       "HBox(children=(FloatProgress(value=0.0, description='variables', max=2.0, style=ProgressStyle(description_widt…"
      ]
     },
     "metadata": {},
     "output_type": "display_data"
    },
    {
     "name": "stdout",
     "output_type": "stream",
     "text": [
      "\n"
     ]
    },
    {
     "data": {
      "application/vnd.jupyter.widget-view+json": {
       "model_id": "487faea616394f219bc50afa31ff1be5",
       "version_major": 2,
       "version_minor": 0
      },
      "text/plain": [
       "HBox(children=(FloatProgress(value=0.0, description='correlations', max=6.0, style=ProgressStyle(description_w…"
      ]
     },
     "metadata": {},
     "output_type": "display_data"
    },
    {
     "name": "stdout",
     "output_type": "stream",
     "text": [
      "\n"
     ]
    },
    {
     "data": {
      "application/vnd.jupyter.widget-view+json": {
       "model_id": "13c86894af2242e797983cd779c2d0cf",
       "version_major": 2,
       "version_minor": 0
      },
      "text/plain": [
       "HBox(children=(FloatProgress(value=0.0, description='interactions [continuous]', max=1.0, style=ProgressStyle(…"
      ]
     },
     "metadata": {},
     "output_type": "display_data"
    },
    {
     "name": "stdout",
     "output_type": "stream",
     "text": [
      "\n"
     ]
    },
    {
     "data": {
      "application/vnd.jupyter.widget-view+json": {
       "model_id": "4cc799916ae24ab086bfdaf3ffa97f6d",
       "version_major": 2,
       "version_minor": 0
      },
      "text/plain": [
       "HBox(children=(FloatProgress(value=0.0, description='table', max=1.0, style=ProgressStyle(description_width='i…"
      ]
     },
     "metadata": {},
     "output_type": "display_data"
    },
    {
     "name": "stdout",
     "output_type": "stream",
     "text": [
      "\n"
     ]
    },
    {
     "data": {
      "application/vnd.jupyter.widget-view+json": {
       "model_id": "f6eba7131b0f4b9db8beae90354369e1",
       "version_major": 2,
       "version_minor": 0
      },
      "text/plain": [
       "HBox(children=(FloatProgress(value=0.0, description='missing', max=2.0, style=ProgressStyle(description_width=…"
      ]
     },
     "metadata": {},
     "output_type": "display_data"
    },
    {
     "name": "stdout",
     "output_type": "stream",
     "text": [
      "\n"
     ]
    },
    {
     "data": {
      "application/vnd.jupyter.widget-view+json": {
       "model_id": "8d4e0d41c5454c49becd22e81c735c62",
       "version_major": 2,
       "version_minor": 0
      },
      "text/plain": [
       "HBox(children=(FloatProgress(value=0.0, description='warnings', max=3.0, style=ProgressStyle(description_width…"
      ]
     },
     "metadata": {},
     "output_type": "display_data"
    },
    {
     "name": "stdout",
     "output_type": "stream",
     "text": [
      "\n"
     ]
    },
    {
     "data": {
      "application/vnd.jupyter.widget-view+json": {
       "model_id": "1858f5cc798e400b9b0cf2ced142beef",
       "version_major": 2,
       "version_minor": 0
      },
      "text/plain": [
       "HBox(children=(FloatProgress(value=0.0, description='package', max=1.0, style=ProgressStyle(description_width=…"
      ]
     },
     "metadata": {},
     "output_type": "display_data"
    },
    {
     "name": "stdout",
     "output_type": "stream",
     "text": [
      "\n"
     ]
    },
    {
     "data": {
      "application/vnd.jupyter.widget-view+json": {
       "model_id": "da2c1bfd7ad240568885a3534f122b4b",
       "version_major": 2,
       "version_minor": 0
      },
      "text/plain": [
       "HBox(children=(FloatProgress(value=0.0, description='build report structure', max=1.0, style=ProgressStyle(des…"
      ]
     },
     "metadata": {},
     "output_type": "display_data"
    },
    {
     "name": "stdout",
     "output_type": "stream",
     "text": [
      "\n"
     ]
    },
    {
     "data": {
      "application/vnd.jupyter.widget-view+json": {
       "model_id": "086260ff019d4f4885721aeebf89cf05",
       "version_major": 2,
       "version_minor": 0
      },
      "text/plain": [
       "HBox(children=(FloatProgress(value=0.0, description='variables', max=2.0, style=ProgressStyle(description_widt…"
      ]
     },
     "metadata": {},
     "output_type": "display_data"
    },
    {
     "name": "stdout",
     "output_type": "stream",
     "text": [
      "\n"
     ]
    },
    {
     "data": {
      "application/vnd.jupyter.widget-view+json": {
       "model_id": "09916a7fb1964bea81c2ea048e4fd9d7",
       "version_major": 2,
       "version_minor": 0
      },
      "text/plain": [
       "HBox(children=(FloatProgress(value=0.0, description='correlations', max=6.0, style=ProgressStyle(description_w…"
      ]
     },
     "metadata": {},
     "output_type": "display_data"
    },
    {
     "name": "stdout",
     "output_type": "stream",
     "text": [
      "\n"
     ]
    },
    {
     "data": {
      "application/vnd.jupyter.widget-view+json": {
       "model_id": "9a0cbd2e13084c7fbca9436600031e40",
       "version_major": 2,
       "version_minor": 0
      },
      "text/plain": [
       "HBox(children=(FloatProgress(value=0.0, description='interactions [continuous]', max=1.0, style=ProgressStyle(…"
      ]
     },
     "metadata": {},
     "output_type": "display_data"
    },
    {
     "name": "stdout",
     "output_type": "stream",
     "text": [
      "\n"
     ]
    },
    {
     "data": {
      "application/vnd.jupyter.widget-view+json": {
       "model_id": "305f36f5406b48baad773d63312f8dd1",
       "version_major": 2,
       "version_minor": 0
      },
      "text/plain": [
       "HBox(children=(FloatProgress(value=0.0, description='table', max=1.0, style=ProgressStyle(description_width='i…"
      ]
     },
     "metadata": {},
     "output_type": "display_data"
    },
    {
     "name": "stdout",
     "output_type": "stream",
     "text": [
      "\n"
     ]
    },
    {
     "data": {
      "application/vnd.jupyter.widget-view+json": {
       "model_id": "f596c5d7f2734433bda8f85480db9a40",
       "version_major": 2,
       "version_minor": 0
      },
      "text/plain": [
       "HBox(children=(FloatProgress(value=0.0, description='missing', max=2.0, style=ProgressStyle(description_width=…"
      ]
     },
     "metadata": {},
     "output_type": "display_data"
    },
    {
     "name": "stdout",
     "output_type": "stream",
     "text": [
      "\n"
     ]
    },
    {
     "data": {
      "application/vnd.jupyter.widget-view+json": {
       "model_id": "3d36fffb6f0d4792a3ca5a4530f55c5e",
       "version_major": 2,
       "version_minor": 0
      },
      "text/plain": [
       "HBox(children=(FloatProgress(value=0.0, description='warnings', max=3.0, style=ProgressStyle(description_width…"
      ]
     },
     "metadata": {},
     "output_type": "display_data"
    },
    {
     "name": "stdout",
     "output_type": "stream",
     "text": [
      "\n"
     ]
    },
    {
     "data": {
      "application/vnd.jupyter.widget-view+json": {
       "model_id": "ed5a6e791dd14585a8af73e09c90d278",
       "version_major": 2,
       "version_minor": 0
      },
      "text/plain": [
       "HBox(children=(FloatProgress(value=0.0, description='package', max=1.0, style=ProgressStyle(description_width=…"
      ]
     },
     "metadata": {},
     "output_type": "display_data"
    },
    {
     "name": "stdout",
     "output_type": "stream",
     "text": [
      "\n"
     ]
    },
    {
     "data": {
      "application/vnd.jupyter.widget-view+json": {
       "model_id": "328857db84c24d61ae6f57c70a3243dd",
       "version_major": 2,
       "version_minor": 0
      },
      "text/plain": [
       "HBox(children=(FloatProgress(value=0.0, description='build report structure', max=1.0, style=ProgressStyle(des…"
      ]
     },
     "metadata": {},
     "output_type": "display_data"
    },
    {
     "name": "stdout",
     "output_type": "stream",
     "text": [
      "\n"
     ]
    }
   ],
   "source": [
    "from pandas_profiling import ProfileReport\n",
    "\n",
    "train_profile = ProfileReport(train_df, title='Pandas Profiling Train Dataset Report', html={'style':{'full_width':True}})\n",
    "test_profile = ProfileReport(test_df, title='Pandas Profiling Test Dataset Report', html={'style':{'full_width':True}})\n"
   ]
  },
  {
   "cell_type": "markdown",
   "metadata": {},
   "source": [
    "## Feature Extraction\n",
    "\n",
    "**Count Feature Vectorization<br>\n",
    "TF-IDF Feature Vectorization**"
   ]
  },
  {
   "cell_type": "code",
   "execution_count": 36,
   "metadata": {},
   "outputs": [],
   "source": [
    "from sklearn.feature_extraction.text import CountVectorizer, TfidfVectorizer"
   ]
  },
  {
   "cell_type": "markdown",
   "metadata": {},
   "source": [
    "## Count Vectorizer Vs TF-IDF Vectorizer"
   ]
  },
  {
   "cell_type": "code",
   "execution_count": 37,
   "metadata": {},
   "outputs": [
    {
     "name": "stdout",
     "output_type": "stream",
     "text": [
      "7115\n",
      "7115\n"
     ]
    }
   ],
   "source": [
    "count_vectorizer = CountVectorizer()\n",
    "tfidf_vectorizer = TfidfVectorizer()\n",
    "# Fit should be done only on training data BE CAREFULLLLL\n",
    "count_vectorizer.fit(X_train)\n",
    "tfidf_vectorizer.fit(X_train)\n",
    "\n",
    "print(len(count_vectorizer.get_feature_names()))\n",
    "print(len(tfidf_vectorizer.get_feature_names()))"
   ]
  },
  {
   "cell_type": "code",
   "execution_count": 38,
   "metadata": {},
   "outputs": [
    {
     "name": "stdout",
     "output_type": "stream",
     "text": [
      "(14711, 7115) (3678, 7115)\n"
     ]
    }
   ],
   "source": [
    "# COUNT VECTORIZER\n",
    "X_train_count_v=count_vectorizer.transform(X_train)\n",
    "X_test_count_v= count_vectorizer.transform(X_test)\n",
    "\n",
    "#TF-IDF VECTORIZER\n",
    "X_train_tfidf_v=tfidf_vectorizer.transform(X_train)\n",
    "X_test_tfidf_v=tfidf_vectorizer.transform(X_test)\n",
    "\n",
    "print(X_train_count_v.shape, X_test_count_v.shape)"
   ]
  },
  {
   "cell_type": "code",
   "execution_count": null,
   "metadata": {},
   "outputs": [],
   "source": []
  },
  {
   "cell_type": "code",
   "execution_count": null,
   "metadata": {},
   "outputs": [],
   "source": []
  },
  {
   "cell_type": "markdown",
   "metadata": {},
   "source": [
    "## Bagging Classifier"
   ]
  },
  {
   "cell_type": "code",
   "execution_count": 49,
   "metadata": {},
   "outputs": [],
   "source": [
    "from sklearn.tree import DecisionTreeClassifier\n",
    "from sklearn.ensemble import BaggingClassifier, AdaBoostClassifier, GradientBoostingClassifier\n",
    "from sklearn import model_selection, metrics\n",
    "from sklearn.metrics import accuracy_score"
   ]
  },
  {
   "cell_type": "code",
   "execution_count": 50,
   "metadata": {},
   "outputs": [],
   "source": [
    "from sklearn.model_selection import GridSearchCV\n",
    "\n",
    "grid_params={\n",
    "    'n_estimators' : (5,10),\n",
    "    'max_features': (.6,.7,.8),\n",
    "    'max_samples' : (.6,.7,.8)\n",
    "            }"
   ]
  },
  {
   "cell_type": "markdown",
   "metadata": {},
   "source": [
    "In particular, max_samples and max_features control the size of the subsets (in terms of samples and features), while bootstrap and bootstrap_features control whether samples and features are drawn with or without replacement."
   ]
  },
  {
   "cell_type": "code",
   "execution_count": 62,
   "metadata": {},
   "outputs": [],
   "source": [
    "clf=GridSearchCV(BaggingClassifier(random_state=1),\n",
    "                     grid_params)\n",
    "clf.fit(X_train_count_v,y_train)\n",
    "\n"
   ]
  },
  {
   "cell_type": "code",
   "execution_count": 63,
   "metadata": {},
   "outputs": [
    {
     "name": "stdout",
     "output_type": "stream",
     "text": [
      "Best score:  0.6442794699101648 \n",
      " {'max_features': 0.6, 'max_samples': 0.8, 'n_estimators': 10}\n",
      "\n",
      "\tClassification Report of best feature\n",
      "\t with Bagging\n",
      "\n",
      "              precision    recall  f1-score   support\n",
      "\n",
      "           0       0.73      0.54      0.62       247\n",
      "           1       0.63      0.42      0.50       291\n",
      "           2       0.63      0.54      0.58       469\n",
      "           3       0.67      0.82      0.74      1759\n",
      "           4       0.69      0.57      0.62       912\n",
      "\n",
      "    accuracy                           0.67      3678\n",
      "   macro avg       0.67      0.58      0.61      3678\n",
      "weighted avg       0.67      0.67      0.66      3678\n",
      "\n"
     ]
    }
   ],
   "source": [
    "print('Best score: ', clf.best_score_,'\\n',clf.best_params_)\n",
    "\n",
    "y_preds_final =clf.predict(X_test_count_v)\n",
    "accuracy=accuracy_score(y_test,y_preds_final)\n",
    "# print('Accuracy: ',accuracy)\n",
    "print('\\n\\tClassification Report of best feature\\n\\t with Bagging\\n')\n",
    "print(metrics.classification_report(y_test,y_preds_final))\n"
   ]
  },
  {
   "cell_type": "markdown",
   "metadata": {},
   "source": [
    "## Gradient  Tree Boosting\n",
    "\n",
    "The number of weak learners (i.e. regression trees) is controlled by the parameter n_estimators; \n",
    "\n",
    "The size of each tree can be controlled either by setting the tree depth via max_depth or by setting the number of leaf nodes via max_leaf_nodes. \n",
    "\n",
    "The learning_rate is a hyper-parameter in the range (0.0, 1.0] that controls overfitting via shrinkage ."
   ]
  },
  {
   "cell_type": "markdown",
   "metadata": {},
   "source": [
    "Note: For SVM:\n",
    "\n",
    "Classification with more than 2 classes requires the induction of n_classes regression trees at each iteration, thus, the total number of induced trees equals n_classes * n_estimators. For datasets with a large number of classes we strongly recommend to use HistGradientBoostingClassifier as an alternative to GradientBoostingClassifier."
   ]
  },
  {
   "cell_type": "markdown",
   "metadata": {},
   "source": [
    "## AdaBoostClassifier\n",
    "\n",
    "The number of weak learners is controlled by the parameter n_estimators. \n",
    "The learning_rate parameter controls the contribution of the weak learners in the final combination. \n",
    "By default, weak learners are decision stumps. Different weak learners can be specified through the base_estimator parameter. \n",
    "\n",
    "The main parameters to tune to obtain good results are n_estimators and the complexity of the base estimators (e.g., its depth max_depth or minimum required number of samples to consider a split min_samples_split)."
   ]
  },
  {
   "cell_type": "code",
   "execution_count": null,
   "metadata": {},
   "outputs": [],
   "source": []
  },
  {
   "cell_type": "markdown",
   "metadata": {},
   "source": [
    "## Automation"
   ]
  },
  {
   "cell_type": "code",
   "execution_count": 53,
   "metadata": {},
   "outputs": [],
   "source": [
    "from sklearn.tree import DecisionTreeClassifier\n",
    "from sklearn.ensemble import RandomForestClassifier, ExtraTreesClassifier\n",
    "\n",
    "i=0"
   ]
  },
  {
   "cell_type": "code",
   "execution_count": 64,
   "metadata": {},
   "outputs": [],
   "source": [
    "def grid_search_classifier(classifier, train_x, train_y, test_x, test_y, grid_params, scoring='accuracy'):\n",
    "    clf=GridSearchCV(classifier(random_state=1),\n",
    "                     grid_params)\n",
    "    \n",
    "    clf.fit(train_x,train_y)\n",
    "    print('Best score: ', clf.best_score_,clf.best_params_)\n",
    "    \n",
    "\n",
    "    best_model=clf.best_estimator_\n",
    "    best_model.fit(train_x,train_y)\n",
    "\n",
    "    y_preds_final =best_model.predict(test_x)\n",
    "    accuracy=accuracy_score(test_y,y_preds_final)\n",
    "\n",
    "    global i\n",
    "    name_classifier=['Gradient Boosting Classifier', 'Ada Boost Classifier', 'Random Forest Classifier','Extra Trees Classifier']\n",
    "    print('\\n\\tClassification Report of best feature with {}\\n'.format(name_classifier[i]))\n",
    "    print(metrics.classification_report(y_test,y_preds_final))\n",
    "    i=i+1\n",
    "    \n",
    "    return accuracy"
   ]
  },
  {
   "cell_type": "code",
   "execution_count": 65,
   "metadata": {},
   "outputs": [],
   "source": [
    "list_classifier=[\n",
    "#             (DecisionTreeClassifier,{'min_samples_split': [2, 4],'min_samples_leaf' : [1, 2]\n",
    "#                                          }),\n",
    "                (GradientBoostingClassifier,{'max_leaf_nodes':[2,4,6],'min_samples_split': [2,4,6]\n",
    "                                            }),\n",
    "                (AdaBoostClassifier,{'n_estimators':[50,100],'learning_rate':[0.5,1]\n",
    "                                    }),\n",
    "                (RandomForestClassifier,{'n_estimators':[50,100],'min_samples_split': [2, 4],'min_samples_leaf' : [1, 2]\n",
    "                                        }),\n",
    "                (ExtraTreesClassifier,  {'n_estimators':[50,100],'min_samples_split': [2, 4],'min_samples_leaf' : [1, 2]\n",
    "                                        })\n",
    "]"
   ]
  },
  {
   "cell_type": "code",
   "execution_count": 66,
   "metadata": {},
   "outputs": [
    {
     "name": "stdout",
     "output_type": "stream",
     "text": [
      "Best score:  0.5523082921763218 {'max_leaf_nodes': 6, 'min_samples_split': 4}\n",
      "\n",
      "\tClassification Report of best feature with Gradient Boosting Classifier\n",
      "\n",
      "              precision    recall  f1-score   support\n",
      "\n",
      "           0       0.86      0.23      0.36       247\n",
      "           1       0.77      0.10      0.18       291\n",
      "           2       0.77      0.06      0.11       469\n",
      "           3       0.52      0.95      0.67      1759\n",
      "           4       0.68      0.28      0.39       912\n",
      "\n",
      "    accuracy                           0.55      3678\n",
      "   macro avg       0.72      0.32      0.34      3678\n",
      "weighted avg       0.64      0.55      0.47      3678\n",
      "\n",
      "\n",
      "\n",
      "Best score:  0.517776017618227 {'learning_rate': 1, 'n_estimators': 100}\n",
      "\n",
      "\tClassification Report of best feature with Ada Boost Classifier\n",
      "\n",
      "              precision    recall  f1-score   support\n",
      "\n",
      "           0       0.60      0.33      0.43       247\n",
      "           1       0.54      0.07      0.12       291\n",
      "           2       0.54      0.03      0.05       469\n",
      "           3       0.52      0.89      0.65      1759\n",
      "           4       0.58      0.30      0.39       912\n",
      "\n",
      "    accuracy                           0.53      3678\n",
      "   macro avg       0.56      0.32      0.33      3678\n",
      "weighted avg       0.54      0.53      0.45      3678\n",
      "\n",
      "\n",
      "\n",
      "Best score:  0.6228668055852957 {'min_samples_leaf': 1, 'min_samples_split': 4, 'n_estimators': 50}\n",
      "\n",
      "\tClassification Report of best feature with Random Forest Classifier\n",
      "\n",
      "              precision    recall  f1-score   support\n",
      "\n",
      "           0       0.76      0.53      0.62       247\n",
      "           1       0.65      0.44      0.52       291\n",
      "           2       0.45      0.78      0.57       469\n",
      "           3       0.70      0.71      0.70      1759\n",
      "           4       0.70      0.56      0.62       912\n",
      "\n",
      "    accuracy                           0.65      3678\n",
      "   macro avg       0.65      0.60      0.61      3678\n",
      "weighted avg       0.67      0.65      0.65      3678\n",
      "\n",
      "\n",
      "\n",
      "Best score:  0.6359187813412925 {'min_samples_leaf': 1, 'min_samples_split': 4, 'n_estimators': 100}\n",
      "\n",
      "\tClassification Report of best feature with Extra Trees Classifier\n",
      "\n",
      "              precision    recall  f1-score   support\n",
      "\n",
      "           0       0.73      0.58      0.65       247\n",
      "           1       0.64      0.48      0.55       291\n",
      "           2       0.46      0.78      0.58       469\n",
      "           3       0.73      0.70      0.71      1759\n",
      "           4       0.70      0.60      0.65       912\n",
      "\n",
      "    accuracy                           0.66      3678\n",
      "   macro avg       0.65      0.63      0.63      3678\n",
      "weighted avg       0.68      0.66      0.66      3678\n",
      "\n",
      "\n",
      "\n",
      "[{'Classifier: ': \"<class 'sklearn.ensemble._gb.GradientBoostingClassifier'>\", 'Accuracy': 0.5513866231647635}, {'Classifier: ': \"<class 'sklearn.ensemble._weight_boosting.AdaBoostClassifier'>\", 'Accuracy': 0.5293637846655791}, {'Classifier: ': \"<class 'sklearn.ensemble._forest.RandomForestClassifier'>\", 'Accuracy': 0.6460032626427407}, {'Classifier: ': \"<class 'sklearn.ensemble._forest.ExtraTreesClassifier'>\", 'Accuracy': 0.6587819467101685}] \n",
      "\n"
     ]
    }
   ],
   "source": [
    "accuracies=[]\n",
    "for classifier, grid in list_classifier:\n",
    "    accuracy=grid_search_classifier(classifier, X_train_count_v, y_train, X_test_count_v, y_test, grid)\n",
    "    accuracies.append({'Classifier: ': str(classifier),'Accuracy':accuracy})\n",
    "    print('\\n')\n",
    "print(accuracies,'\\n')"
   ]
  },
  {
   "cell_type": "code",
   "execution_count": null,
   "metadata": {},
   "outputs": [],
   "source": []
  },
  {
   "cell_type": "code",
   "execution_count": null,
   "metadata": {},
   "outputs": [],
   "source": []
  },
  {
   "cell_type": "code",
   "execution_count": null,
   "metadata": {},
   "outputs": [],
   "source": []
  }
 ],
 "metadata": {
  "kernelspec": {
   "display_name": "Python 3",
   "language": "python",
   "name": "python3"
  },
  "language_info": {
   "codemirror_mode": {
    "name": "ipython",
    "version": 3
   },
   "file_extension": ".py",
   "mimetype": "text/x-python",
   "name": "python",
   "nbconvert_exporter": "python",
   "pygments_lexer": "ipython3",
   "version": "3.6.9"
  }
 },
 "nbformat": 4,
 "nbformat_minor": 4
}
